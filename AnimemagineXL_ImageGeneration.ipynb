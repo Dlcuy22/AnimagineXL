{
  "nbformat": 4,
  "nbformat_minor": 0,
  "metadata": {
    "colab": {
      "provenance": [],
      "gpuType": "T4",
      "include_colab_link": true
    },
    "kernelspec": {
      "name": "python3",
      "display_name": "Python 3"
    },
    "language_info": {
      "name": "python"
    },
    "accelerator": "GPU"
  },
  "cells": [
    {
      "cell_type": "markdown",
      "metadata": {
        "id": "view-in-github",
        "colab_type": "text"
      },
      "source": [
        "<a href=\"https://colab.research.google.com/github/Dlcuy22/AnimagineXL/blob/main/AnimemagineXL_ImageGeneration.ipynb\" target=\"_parent\"><img src=\"https://colab.research.google.com/assets/colab-badge.svg\" alt=\"Open In Colab\"/></a>"
      ]
    },
    {
      "cell_type": "markdown",
      "source": [
        "### **Install Library**"
      ],
      "metadata": {
        "id": "xYs-aC7h-JBP"
      }
    },
    {
      "cell_type": "code",
      "source": [
        "#@markdown **RUN THIS TO INSTALL THE LIBRARIES FIRST!**\n",
        "!pip install -q --upgrade diffusers invisible_watermark transformers accelerate safetensors"
      ],
      "metadata": {
        "id": "RlFel70j7u7_",
        "cellView": "form"
      },
      "execution_count": null,
      "outputs": []
    },
    {
      "cell_type": "markdown",
      "source": [
        "### **Run pipeline**"
      ],
      "metadata": {
        "id": "5RNM28WR932m"
      }
    },
    {
      "cell_type": "markdown",
      "source": [],
      "metadata": {
        "id": "-k27MUP75tlt"
      }
    },
    {
      "cell_type": "code",
      "execution_count": null,
      "metadata": {
        "id": "03LQ-hg9emBa",
        "cellView": "form"
      },
      "outputs": [],
      "source": [
        "#@markdown **RUN THIS BEFORE GENERATING!**\n",
        "import torch\n",
        "from diffusers import DiffusionPipeline\n",
        "\n",
        "model = \"cagliostrolab/animagine-xl-3.1\"\n",
        "\n",
        "pipe = DiffusionPipeline.from_pretrained(\n",
        "    \"cagliostrolab/animagine-xl-3.1\",\n",
        "    torch_dtype=torch.float16,\n",
        "    use_safetensors=True,\n",
        ")\n",
        "pipe.to('cuda')\n"
      ]
    },
    {
      "cell_type": "markdown",
      "source": [
        "### **Generate**"
      ],
      "metadata": {
        "id": "7AOFEhoX90WG"
      }
    },
    {
      "cell_type": "code",
      "source": [
        "import matplotlib.pyplot as plt\n",
        "from PIL import Image\n",
        "#@markdown **Generate the image**\n",
        "prompt = \"\" #@param {type:\"string\"}\n",
        "prompt = f\"\\\"{prompt}\\\"\"\n",
        "negative_prompt = \"nsfw, lowres, (bad), text, error, fewer, extra, missing, worst quality, jpeg artifacts, low quality, watermark, unfinished, displeasing, oldest, early, chromatic aberration, signature, extra digits, artistic error, username, scan, [abstract]\" #@param {type:\"string\"}\n",
        "output = \"/content/anime_girl.png\"\n",
        "\n",
        "image = pipe(\n",
        "    prompt,\n",
        "    negative_prompt=negative_prompt,\n",
        "    width=1024,\n",
        "    height=1024,\n",
        "    guidance_scale=12,\n",
        "    target_size=(1024,1024),\n",
        "    original_size=(4096,4096),\n",
        "    num_inference_steps=50\n",
        "    ).images[0]\n",
        "\n",
        "image.save(output)\n",
        "image = Image.open(output)\n",
        "plt.imshow(image)\n",
        "plt.axis('off') # to hide the axis\n",
        "\n"
      ],
      "metadata": {
        "id": "zqb6xN5y8BLw",
        "cellView": "form"
      },
      "execution_count": null,
      "outputs": []
    },
    {
      "cell_type": "markdown",
      "source": [
        "### **Clean Memory**"
      ],
      "metadata": {
        "id": "Rf3Knhxl9x7G"
      }
    },
    {
      "cell_type": "code",
      "source": [
        "import gc\n",
        "\n",
        "if \"pipe\" in globals():\n",
        "    del pipe\n",
        "if \"image\" in globals():\n",
        "    del image\n",
        "torch.cuda.empty_cache()\n",
        "gc.collect()"
      ],
      "metadata": {
        "id": "ZBl1dOOD9u8_",
        "colab": {
          "base_uri": "https://localhost:8080/"
        },
        "outputId": "adc3e08e-2118-4f47-b393-c3511313439c"
      },
      "execution_count": null,
      "outputs": [
        {
          "output_type": "execute_result",
          "data": {
            "text/plain": [
              "2147"
            ]
          },
          "metadata": {},
          "execution_count": 5
        }
      ]
    }
  ]
}